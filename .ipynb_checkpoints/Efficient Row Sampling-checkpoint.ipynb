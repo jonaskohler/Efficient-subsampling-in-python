{
 "cells": [
  {
   "cell_type": "code",
   "execution_count": 1,
   "metadata": {
    "collapsed": true
   },
   "outputs": [],
   "source": [
    "import time\n",
    "from math import sqrt, ceil\n",
    "import numpy as np\n",
    "import scipy\n"
   ]
  },
  {
   "cell_type": "markdown",
   "metadata": {},
   "source": [
    "#### a) Create Data"
   ]
  },
  {
   "cell_type": "code",
   "execution_count": 93,
   "metadata": {
    "collapsed": false
   },
   "outputs": [],
   "source": [
    "n=int(11e6)\n",
    "d=28\n",
    "sample_size=int(10e6)\n",
    "X = np.array(np.random.rand(n, d))\n",
    "X2 = np.array(np.random.rand(n, d), order='F' )"
   ]
  },
  {
   "cell_type": "code",
   "execution_count": 18,
   "metadata": {
    "collapsed": false
   },
   "outputs": [
    {
     "name": "stdout",
     "output_type": "stream",
     "text": [
      "1 loop, best of 3: 3.18 s per loop\n"
     ]
    }
   ],
   "source": [
    "timeit np.random.choice(range(n), sample_size, replace=False)"
   ]
  },
  {
   "cell_type": "code",
   "execution_count": 19,
   "metadata": {
    "collapsed": false
   },
   "outputs": [
    {
     "name": "stdout",
     "output_type": "stream",
     "text": [
      "1 loop, best of 3: 581 ms per loop\n"
     ]
    }
   ],
   "source": [
    "timeit np.random.permutation(n)[0:sample_size]"
   ]
  },
  {
   "cell_type": "code",
   "execution_count": 96,
   "metadata": {
    "collapsed": false
   },
   "outputs": [],
   "source": [
    "int_idx=np.random.permutation(n)[0:sample_size]\n",
    "\n",
    "bool_idx = np.zeros(n,dtype=bool)\n",
    "bool_idx[int_idx]=True\n"
   ]
  },
  {
   "cell_type": "markdown",
   "metadata": {},
   "source": [
    "#### b) Sample rows"
   ]
  },
  {
   "cell_type": "code",
   "execution_count": 102,
   "metadata": {
    "collapsed": true
   },
   "outputs": [],
   "source": [
    "runs=30"
   ]
  },
  {
   "cell_type": "markdown",
   "metadata": {},
   "source": [
    "##### 1. np.take"
   ]
  },
  {
   "cell_type": "markdown",
   "metadata": {},
   "source": [
    "- boolean indexing is faster"
   ]
  },
  {
   "cell_type": "code",
   "execution_count": 103,
   "metadata": {
    "collapsed": false
   },
   "outputs": [
    {
     "name": "stdout",
     "output_type": "stream",
     "text": [
      "### integer indexing:\n",
      "avg=  2.223499169067812\n",
      "sd=  0.158276333685\n",
      "### boolean indexing:\n",
      "avg=  1.2602577272118956\n",
      "sd=  0.128531334833\n"
     ]
    }
   ],
   "source": [
    "time_l=[]\n",
    "for i in range(runs):\n",
    "    _X=np.zeros((sample_size,d))\n",
    "    t_0=time.clock()\n",
    "    _X=np.take(X,int_idx,axis=0)\n",
    "    t_1=time.clock()\n",
    "    time_l.append(t_1-t_0)\n",
    "print('### integer indexing:')\n",
    "print ('avg= ', (sum(time_l))/runs)\n",
    "print ('sd= ', np.std(time_l))\n",
    "\n",
    "time_l=[]\n",
    "for i in range(runs):\n",
    "    _X=np.zeros((sample_size,d))\n",
    "    t_0=time.clock()\n",
    "    _X=np.compress(bool_idx,X,axis=0)\n",
    "    t_1=time.clock()\n",
    "    time_l.append(t_1-t_0)\n",
    "print('### boolean indexing:')\n",
    "print ('avg= ', (sum(time_l))/runs)\n",
    "print ('sd= ', np.std(time_l))\n",
    "\n"
   ]
  },
  {
   "cell_type": "markdown",
   "metadata": {},
   "source": [
    "- w/o preinitialization slower"
   ]
  },
  {
   "cell_type": "code",
   "execution_count": 104,
   "metadata": {
    "collapsed": false
   },
   "outputs": [
    {
     "name": "stdout",
     "output_type": "stream",
     "text": [
      "### boolean indexing w/o preinitialization:\n",
      "avg=  2.265117617727022\n",
      "sd=  1.62556371877\n"
     ]
    }
   ],
   "source": [
    "time_l=[]\n",
    "for i in range(runs):\n",
    "    #_X=np.zeros((sample_size,d))\n",
    "    t_0=time.clock()\n",
    "    _X=np.compress(bool_idx,X,axis=0)\n",
    "    t_1=time.clock()\n",
    "    time_l.append(t_1-t_0)\n",
    "print('### boolean indexing w/o preinitialization:')\n",
    "print ('avg= ', (sum(time_l))/runs)\n",
    "print ('sd= ', np.std(time_l))\n",
    "\n"
   ]
  },
  {
   "cell_type": "markdown",
   "metadata": {},
   "source": [
    "- accessing rows in column major array slower"
   ]
  },
  {
   "cell_type": "code",
   "execution_count": 53,
   "metadata": {
    "collapsed": false
   },
   "outputs": [
    {
     "name": "stdout",
     "output_type": "stream",
     "text": [
      "### boolean indexing column major:\n",
      "avg=  7.155123254208775\n",
      "sd=  2.13494011109\n"
     ]
    }
   ],
   "source": [
    "time_l=[]\n",
    "for i in range(runs):\n",
    "    _X=np.zeros((sample_size,d))\n",
    "    t_0=time.clock()\n",
    "    _X=np.compress(bool_idx,X2,axis=0)\n",
    "    t_1=time.clock()\n",
    "    time_l.append(t_1-t_0)\n",
    "print('### boolean indexing column major:')\n",
    "print ('avg= ', (sum(time_l))/runs)\n",
    "print ('sd= ', np.std(time_l))\n",
    "\n"
   ]
  },
  {
   "cell_type": "markdown",
   "metadata": {},
   "source": [
    "##### 2. Fancy Indexing\n"
   ]
  },
  {
   "cell_type": "markdown",
   "metadata": {},
   "source": [
    "- slower than ndarray.compress/take\n"
   ]
  },
  {
   "cell_type": "code",
   "execution_count": 45,
   "metadata": {
    "collapsed": false
   },
   "outputs": [
    {
     "name": "stdout",
     "output_type": "stream",
     "text": [
      "### integer indexing:\n",
      "avg=  3.0003420948268817\n",
      "sd=  0.338203225645\n",
      "### boolean indexing:\n",
      "avg=  1.8057687839254413\n",
      "sd=  0.0920401465134\n"
     ]
    }
   ],
   "source": [
    "time_l=[]\n",
    "for i in range(runs):\n",
    "    _X=np.zeros((sample_size,d))\n",
    "    t_0=time.clock()\n",
    "    _X=X[int_idx,:]\n",
    "    t_1=time.clock()\n",
    "    time_l.append(t_1-t_0)\n",
    "print('### integer indexing:')\n",
    "print ('avg= ', (sum(time_l))/runs)\n",
    "print ('sd= ', np.std(time_l))\n",
    "\n",
    "time_l=[]\n",
    "for i in range(runs):\n",
    "    _X=np.zeros((sample_size,d))\n",
    "    t_0=time.clock()\n",
    "    _X=X[bool_idx,:]\n",
    "    t_1=time.clock()\n",
    "    time_l.append(t_1-t_0)\n",
    "print('### boolean indexing:')\n",
    "print ('avg= ', (sum(time_l))/runs)\n",
    "print ('sd= ', np.std(time_l))\n",
    "\n"
   ]
  }
 ],
 "metadata": {
  "kernelspec": {
   "display_name": "Anaconda 3.6",
   "language": "python",
   "name": "anaconda3"
  },
  "language_info": {
   "codemirror_mode": {
    "name": "ipython",
    "version": 3
   },
   "file_extension": ".py",
   "mimetype": "text/x-python",
   "name": "python",
   "nbconvert_exporter": "python",
   "pygments_lexer": "ipython3",
   "version": "3.6.0"
  }
 },
 "nbformat": 4,
 "nbformat_minor": 2
}
